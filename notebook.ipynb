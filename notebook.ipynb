{
 "cells": [
  {
   "cell_type": "markdown",
   "metadata": {},
   "source": [
    "# Canvas Backup"
   ]
  },
  {
   "cell_type": "code",
   "execution_count": null,
   "metadata": {
    "pycharm": {
     "is_executing": false
    }
   },
   "outputs": [],
   "source": [
    "import http.server\n",
    "import aiohttp\n",
    "import ipywidgets as widgets\n",
    "import asyncio\n",
    "import pathlib\n",
    "import canvas\n",
    "from urllib.parse import urljoin"
   ]
  },
  {
   "cell_type": "code",
   "execution_count": null,
   "metadata": {
    "pycharm": {
     "is_executing": false
    }
   },
   "outputs": [],
   "source": [
    "token = input(\"Enter token\")\n",
    "headers = {\"Authorization\": f\"Bearer {token}\"}"
   ]
  },
  {
   "cell_type": "markdown",
   "metadata": {},
   "source": [
    "## Create authorized `ClientSession`"
   ]
  },
  {
   "cell_type": "code",
   "execution_count": null,
   "metadata": {
    "pycharm": {
     "is_executing": false
    }
   },
   "outputs": [],
   "source": [
    "session = aiohttp.ClientSession(headers=headers, timeout=aiohttp.ClientTimeout(None))"
   ]
  },
  {
   "cell_type": "code",
   "execution_count": null,
   "metadata": {},
   "outputs": [],
   "source": [
    "class RateLimitProxy:\n",
    "    def __init__(self, session, n_requests=10):\n",
    "        self._session = session\n",
    "        self._semaphore = asyncio.BoundedSemaphore(n_requests)\n",
    "        \n",
    "    def __getattr__(self, name):\n",
    "        return getattr(self._session, name)\n",
    "    \n",
    "    async def get(self, *args, **kwargs):\n",
    "        async with self._semaphore:\n",
    "            return await self._session.get(*args, **kwargs)\n",
    "        \n",
    "session = RateLimitProxy(session, 40)"
   ]
  },
  {
   "cell_type": "markdown",
   "metadata": {},
   "source": [
    "## Get a session URL for selenium"
   ]
  },
  {
   "cell_type": "code",
   "execution_count": null,
   "metadata": {
    "pycharm": {
     "is_executing": false
    }
   },
   "outputs": [],
   "source": [
    "response = await session.get(urljoin(canvas.DOMAIN_URL, \"login/session_token\"))\n",
    "assert response.status == 200\n",
    "session_url = (await response.json())['session_url']\n",
    "session_url"
   ]
  },
  {
   "cell_type": "code",
   "execution_count": null,
   "metadata": {
    "pycharm": {
     "is_executing": false
    }
   },
   "outputs": [],
   "source": [
    "response = await session.get(urljoin(canvas.API_URL, \"courses\"), data={'per_page': 200})\n",
    "courses = await response.json()\n",
    "print(f\"Found {len(courses)} courses.\")"
   ]
  },
  {
   "cell_type": "markdown",
   "metadata": {},
   "source": [
    "## Support pagination"
   ]
  },
  {
   "cell_type": "code",
   "execution_count": null,
   "metadata": {
    "pycharm": {
     "is_executing": false
    }
   },
   "outputs": [],
   "source": [
    "courses = await canvas.get_courses(session)\n",
    "id_to_course = {c['id']: c for c in courses}"
   ]
  },
  {
   "cell_type": "code",
   "execution_count": null,
   "metadata": {},
   "outputs": [],
   "source": [
    "course_select = widgets.SelectMultiple(\n",
    "    options=[c['name'] for c in courses],\n",
    "    description='Courses',\n",
    "    disabled=False,\n",
    "    layout=widgets.Layout(width='50%', height='20em')\n",
    ")\n",
    "course_select"
   ]
  },
  {
   "cell_type": "code",
   "execution_count": null,
   "metadata": {},
   "outputs": [],
   "source": [
    "selected_courses = [courses[i] for i in course_select.index]"
   ]
  },
  {
   "cell_type": "code",
   "execution_count": null,
   "metadata": {},
   "outputs": [],
   "source": [
    "downloads_dir = pathlib.Path.cwd() / \"canvas\"\n",
    "downloads_dir.mkdir(exist_ok=True)"
   ]
  },
  {
   "cell_type": "code",
   "execution_count": null,
   "metadata": {},
   "outputs": [],
   "source": [
    "await canvas.download_course(session, downloads_dir, selected_courses[0])"
   ]
  },
  {
   "cell_type": "code",
   "execution_count": null,
   "metadata": {
    "scrolled": true
   },
   "outputs": [],
   "source": [
    "tasks = [asyncio.create_task(canvas.download_course(session, downloads_dir, c)) for c in selected_courses]    \n",
    "tasks"
   ]
  },
  {
   "cell_type": "code",
   "execution_count": null,
   "metadata": {},
   "outputs": [],
   "source": [
    "asyncio.all_tasks()"
   ]
  },
  {
   "cell_type": "markdown",
   "metadata": {},
   "source": [
    "Now launch http.server with appropriate directory"
   ]
  }
 ],
 "metadata": {
  "kernelspec": {
   "display_name": "Python 3",
   "language": "python",
   "name": "python3"
  },
  "language_info": {
   "codemirror_mode": {
    "name": "ipython",
    "version": 3
   },
   "file_extension": ".py",
   "mimetype": "text/x-python",
   "name": "python",
   "nbconvert_exporter": "python",
   "pygments_lexer": "ipython3",
   "version": "3.8.0"
  },
  "pycharm": {
   "stem_cell": {
    "cell_type": "raw",
    "metadata": {
     "collapsed": false
    },
    "source": []
   }
  },
  "widgets": {
   "application/vnd.jupyter.widget-state+json": {
    "state": {},
    "version_major": 2,
    "version_minor": 0
   }
  }
 },
 "nbformat": 4,
 "nbformat_minor": 4
}
